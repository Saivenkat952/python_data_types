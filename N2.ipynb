{
 "cells": [
  {
   "cell_type": "code",
   "execution_count": null,
   "metadata": {
    "colab": {
     "base_uri": "https://localhost:8080/"
    },
    "id": "c8_TUwqvV0-N",
    "outputId": "1a060128-6dc8-49d0-b3b3-8c2b07523a91"
   },
   "outputs": [
    {
     "data": {
      "text/plain": [
       "[203, 'ml', 45, True, False, 46, 759]"
      ]
     },
     "execution_count": 1,
     "metadata": {},
     "output_type": "execute_result"
    }
   ],
   "source": [
    "m=[203,'ml',45,True,False,46,759]\n",
    "m"
   ]
  },
  {
   "cell_type": "code",
   "execution_count": null,
   "metadata": {
    "colab": {
     "base_uri": "https://localhost:8080/",
     "height": 36
    },
    "id": "ltMpv41ZXxGK",
    "outputId": "696bfacd-c629-4561-ea57-075d756e5d63"
   },
   "outputs": [
    {
     "data": {
      "application/vnd.google.colaboratory.intrinsic+json": {
       "type": "string"
      },
      "text/plain": [
       "'ml'"
      ]
     },
     "execution_count": 4,
     "metadata": {},
     "output_type": "execute_result"
    }
   ],
   "source": [
    "m[1]"
   ]
  },
  {
   "cell_type": "code",
   "execution_count": null,
   "metadata": {
    "colab": {
     "base_uri": "https://localhost:8080/"
    },
    "id": "bo4upp-2XdT1",
    "outputId": "4e878582-042e-4bfe-8a18-5f227d3d5bf5"
   },
   "outputs": [
    {
     "data": {
      "text/plain": [
       "46"
      ]
     },
     "execution_count": 2,
     "metadata": {},
     "output_type": "execute_result"
    }
   ],
   "source": [
    "m[-2]"
   ]
  },
  {
   "cell_type": "code",
   "execution_count": null,
   "metadata": {
    "colab": {
     "base_uri": "https://localhost:8080/"
    },
    "id": "FXmiT1n8XgyR",
    "outputId": "796bc0e6-09a1-4dd5-dd9f-732216a0ed15"
   },
   "outputs": [
    {
     "data": {
      "text/plain": [
       "[45, True, False]"
      ]
     },
     "execution_count": 3,
     "metadata": {},
     "output_type": "execute_result"
    }
   ],
   "source": [
    "m[2:5]"
   ]
  },
  {
   "cell_type": "code",
   "execution_count": null,
   "metadata": {
    "colab": {
     "base_uri": "https://localhost:8080/"
    },
    "id": "LBkCrX_iXmah",
    "outputId": "a4f6074f-9a9f-44a6-bb8f-5e1c79824526"
   },
   "outputs": [
    {
     "data": {
      "text/plain": [
       "[True, False, 46]"
      ]
     },
     "execution_count": 5,
     "metadata": {},
     "output_type": "execute_result"
    }
   ],
   "source": [
    "m[-4:-1]"
   ]
  },
  {
   "cell_type": "code",
   "execution_count": null,
   "metadata": {
    "colab": {
     "base_uri": "https://localhost:8080/"
    },
    "id": "7bIwPxeVX5QR",
    "outputId": "35ce5fcc-de28-4ff8-fd26-3e2c88c5fdd9"
   },
   "outputs": [
    {
     "data": {
      "text/plain": [
       "[]"
      ]
     },
     "execution_count": 6,
     "metadata": {},
     "output_type": "execute_result"
    }
   ],
   "source": [
    "m[-1:-4]"
   ]
  },
  {
   "cell_type": "code",
   "execution_count": null,
   "metadata": {
    "colab": {
     "base_uri": "https://localhost:8080/"
    },
    "id": "DSy8QRgOX-bH",
    "outputId": "c0960ec7-a7c1-4b2c-aca7-a5ec66a7a3c8"
   },
   "outputs": [
    {
     "data": {
      "text/plain": [
       "True"
      ]
     },
     "execution_count": 9,
     "metadata": {},
     "output_type": "execute_result"
    }
   ],
   "source": [
    "m.pop(3)"
   ]
  },
  {
   "cell_type": "code",
   "execution_count": null,
   "metadata": {
    "colab": {
     "base_uri": "https://localhost:8080/"
    },
    "id": "QzQoCVjeYFu0",
    "outputId": "3e958be8-9dab-4707-c98d-26297d031a21"
   },
   "outputs": [
    {
     "data": {
      "text/plain": [
       "[203, 'ml', 45, False, 46, 759]"
      ]
     },
     "execution_count": 10,
     "metadata": {},
     "output_type": "execute_result"
    }
   ],
   "source": [
    "m"
   ]
  },
  {
   "cell_type": "code",
   "execution_count": null,
   "metadata": {
    "colab": {
     "base_uri": "https://localhost:8080/"
    },
    "id": "hsmJ5r93YZLu",
    "outputId": "5632d4ca-7a89-4d53-bad0-0ed624063a78"
   },
   "outputs": [
    {
     "data": {
      "text/plain": [
       "['ml', 45, False, 46]"
      ]
     },
     "execution_count": 11,
     "metadata": {},
     "output_type": "execute_result"
    }
   ],
   "source": [
    "m[-5:5]"
   ]
  },
  {
   "cell_type": "code",
   "execution_count": null,
   "metadata": {
    "colab": {
     "base_uri": "https://localhost:8080/"
    },
    "id": "wxef1la1ZJqy",
    "outputId": "d2a649db-cac2-4e83-f118-3d847b8bdc20"
   },
   "outputs": [
    {
     "data": {
      "text/plain": [
       "[False, 46]"
      ]
     },
     "execution_count": 12,
     "metadata": {},
     "output_type": "execute_result"
    }
   ],
   "source": [
    "m[3:-1]"
   ]
  },
  {
   "cell_type": "code",
   "execution_count": null,
   "metadata": {
    "id": "2sZy7MchZO6T"
   },
   "outputs": [],
   "source": [
    "m.append(\"mumbai\")"
   ]
  },
  {
   "cell_type": "code",
   "execution_count": null,
   "metadata": {
    "colab": {
     "base_uri": "https://localhost:8080/"
    },
    "id": "mE3X6BI4ZiEJ",
    "outputId": "c449569e-3782-44eb-e782-edaa8586dd76"
   },
   "outputs": [
    {
     "data": {
      "text/plain": [
       "[203, 'ml', 45, False, 46, 759, 'mumbai']"
      ]
     },
     "execution_count": 14,
     "metadata": {},
     "output_type": "execute_result"
    }
   ],
   "source": [
    "m"
   ]
  },
  {
   "cell_type": "code",
   "execution_count": null,
   "metadata": {
    "id": "-Mx-e5PpZjDM"
   },
   "outputs": [],
   "source": [
    "m.insert(1,45)"
   ]
  },
  {
   "cell_type": "code",
   "execution_count": null,
   "metadata": {
    "colab": {
     "base_uri": "https://localhost:8080/"
    },
    "id": "aqD3LMGOZnu5",
    "outputId": "697dfecb-1919-47e3-e883-13f6f07b176c"
   },
   "outputs": [
    {
     "data": {
      "text/plain": [
       "[203, 45, 'ml', 45, False, 46, 759, 'mumbai']"
      ]
     },
     "execution_count": 17,
     "metadata": {},
     "output_type": "execute_result"
    }
   ],
   "source": [
    "m"
   ]
  },
  {
   "cell_type": "code",
   "execution_count": null,
   "metadata": {
    "colab": {
     "base_uri": "https://localhost:8080/",
     "height": 36
    },
    "id": "t-5JpuV_Zx02",
    "outputId": "52ac1d27-29bf-4654-cbd3-2f195863879a"
   },
   "outputs": [
    {
     "data": {
      "application/vnd.google.colaboratory.intrinsic+json": {
       "type": "string"
      },
      "text/plain": [
       "'mumbai'"
      ]
     },
     "execution_count": 18,
     "metadata": {},
     "output_type": "execute_result"
    }
   ],
   "source": [
    "m.pop()"
   ]
  },
  {
   "cell_type": "code",
   "execution_count": null,
   "metadata": {
    "id": "GJI1k1zqanLR"
   },
   "outputs": [],
   "source": [
    "m.append('hyd')"
   ]
  },
  {
   "cell_type": "code",
   "execution_count": null,
   "metadata": {
    "colab": {
     "base_uri": "https://localhost:8080/"
    },
    "id": "rk1Kd3eDbCGm",
    "outputId": "95e83dd2-7faa-4017-b772-beaa70560578"
   },
   "outputs": [
    {
     "data": {
      "text/plain": [
       "[203, 45, 'ml', 45, False, 46, 759, 'hyd']"
      ]
     },
     "execution_count": 20,
     "metadata": {},
     "output_type": "execute_result"
    }
   ],
   "source": [
    "m"
   ]
  },
  {
   "cell_type": "code",
   "execution_count": null,
   "metadata": {
    "colab": {
     "base_uri": "https://localhost:8080/"
    },
    "id": "fJVzHP4wbDBQ",
    "outputId": "459abc91-7f70-4479-c373-e116ff57c324"
   },
   "outputs": [
    {
     "data": {
      "text/plain": [
       "45"
      ]
     },
     "execution_count": 21,
     "metadata": {},
     "output_type": "execute_result"
    }
   ],
   "source": [
    "m.pop(1)"
   ]
  },
  {
   "cell_type": "code",
   "execution_count": null,
   "metadata": {
    "colab": {
     "base_uri": "https://localhost:8080/"
    },
    "id": "XzE8R2zZbGEu",
    "outputId": "a0d9d837-5bf4-442c-a185-a314e6a222b8"
   },
   "outputs": [
    {
     "data": {
      "text/plain": [
       "[203, 'ml', 45, False, 46, 759, 'hyd']"
      ]
     },
     "execution_count": 22,
     "metadata": {},
     "output_type": "execute_result"
    }
   ],
   "source": [
    "m"
   ]
  },
  {
   "cell_type": "code",
   "execution_count": null,
   "metadata": {
    "colab": {
     "base_uri": "https://localhost:8080/"
    },
    "id": "Uwu78ukubGre",
    "outputId": "5634d21b-d3b9-4b5a-8f3f-6a7da0042c8b"
   },
   "outputs": [
    {
     "data": {
      "text/plain": [
       "[False, 46, 759, 'hyd']"
      ]
     },
     "execution_count": 24,
     "metadata": {},
     "output_type": "execute_result"
    }
   ],
   "source": [
    "m[3:]"
   ]
  },
  {
   "cell_type": "code",
   "execution_count": null,
   "metadata": {
    "id": "nbWnsE-dba25"
   },
   "outputs": [],
   "source": [
    "c=m"
   ]
  },
  {
   "cell_type": "code",
   "execution_count": null,
   "metadata": {
    "colab": {
     "base_uri": "https://localhost:8080/"
    },
    "id": "4iM_FWqebuR9",
    "outputId": "4b92df47-e944-44f5-ccaa-3afcb58ede4b"
   },
   "outputs": [
    {
     "data": {
      "text/plain": [
       "[203, 'ml', 45, False, 46, 759, 'hyd']"
      ]
     },
     "execution_count": 26,
     "metadata": {},
     "output_type": "execute_result"
    }
   ],
   "source": [
    "c"
   ]
  },
  {
   "cell_type": "code",
   "execution_count": null,
   "metadata": {
    "colab": {
     "base_uri": "https://localhost:8080/"
    },
    "id": "QnM3HkX2bu8n",
    "outputId": "d1bc9ca0-fa4e-408c-c9cc-97e945a40fbe"
   },
   "outputs": [
    {
     "data": {
      "text/plain": [
       "[203, 'ml', 45, False, 46, 759, 'hyd']"
      ]
     },
     "execution_count": 27,
     "metadata": {},
     "output_type": "execute_result"
    }
   ],
   "source": [
    "m"
   ]
  },
  {
   "cell_type": "code",
   "execution_count": null,
   "metadata": {
    "colab": {
     "base_uri": "https://localhost:8080/"
    },
    "id": "PQO9yc3Abv3V",
    "outputId": "7f8330ac-e4b3-4707-a04c-e0066ac895ca"
   },
   "outputs": [
    {
     "data": {
      "text/plain": [
       "[203, False]"
      ]
     },
     "execution_count": 30,
     "metadata": {},
     "output_type": "execute_result"
    }
   ],
   "source": [
    "m[0:5:3]"
   ]
  },
  {
   "cell_type": "code",
   "execution_count": null,
   "metadata": {
    "colab": {
     "base_uri": "https://localhost:8080/"
    },
    "id": "Iwg5uLyIb8IS",
    "outputId": "df6ff072-f8d4-410c-cb98-aee167d707f5"
   },
   "outputs": [
    {
     "data": {
      "text/plain": [
       "[203, 'ml', 45, False, 46]"
      ]
     },
     "execution_count": 29,
     "metadata": {},
     "output_type": "execute_result"
    }
   ],
   "source": [
    "m[0:5:1]"
   ]
  },
  {
   "cell_type": "code",
   "execution_count": null,
   "metadata": {
    "colab": {
     "base_uri": "https://localhost:8080/"
    },
    "id": "aiIwDy52cFRC",
    "outputId": "12c4be17-9a7b-4400-bf02-35d3ba10e8b2"
   },
   "outputs": [
    {
     "data": {
      "text/plain": [
       "[203, 45, 46, 'hyd']"
      ]
     },
     "execution_count": 32,
     "metadata": {},
     "output_type": "execute_result"
    }
   ],
   "source": [
    "m[0::2]"
   ]
  },
  {
   "cell_type": "code",
   "execution_count": null,
   "metadata": {
    "colab": {
     "base_uri": "https://localhost:8080/"
    },
    "id": "IqOixXaPcXW0",
    "outputId": "39d6fa2b-aea0-4a36-dd9f-f31ace0f4c75"
   },
   "outputs": [
    {
     "data": {
      "text/plain": [
       "[203, 45, 46, 'hyd']"
      ]
     },
     "execution_count": 33,
     "metadata": {},
     "output_type": "execute_result"
    }
   ],
   "source": [
    "m[:7:2]"
   ]
  },
  {
   "cell_type": "code",
   "execution_count": null,
   "metadata": {
    "colab": {
     "base_uri": "https://localhost:8080/"
    },
    "id": "vkiYpss_cw8j",
    "outputId": "d7051977-0d78-4d89-ee99-09580db63013"
   },
   "outputs": [
    {
     "data": {
      "text/plain": [
       "[203, 'ml', 45, False, 46, 759, 'hyd']"
      ]
     },
     "execution_count": 34,
     "metadata": {},
     "output_type": "execute_result"
    }
   ],
   "source": [
    "m"
   ]
  },
  {
   "cell_type": "code",
   "execution_count": null,
   "metadata": {
    "colab": {
     "base_uri": "https://localhost:8080/"
    },
    "id": "_dlxga7jc19W",
    "outputId": "ee6ac911-555b-4743-fef1-6b4ddb1eafe3"
   },
   "outputs": [
    {
     "data": {
      "text/plain": [
       "[]"
      ]
     },
     "execution_count": 35,
     "metadata": {},
     "output_type": "execute_result"
    }
   ],
   "source": [
    "m[-1:-7]"
   ]
  },
  {
   "cell_type": "code",
   "execution_count": null,
   "metadata": {
    "colab": {
     "base_uri": "https://localhost:8080/"
    },
    "id": "eV33RerAfY_F",
    "outputId": "3a9c25bb-8122-449b-d91a-412f89b79a7b"
   },
   "outputs": [
    {
     "data": {
      "text/plain": [
       "['hyd', 759, 46, False, 45, 'ml']"
      ]
     },
     "execution_count": 36,
     "metadata": {},
     "output_type": "execute_result"
    }
   ],
   "source": [
    "m[-1:-7:-1]"
   ]
  },
  {
   "cell_type": "code",
   "execution_count": null,
   "metadata": {
    "colab": {
     "base_uri": "https://localhost:8080/"
    },
    "id": "CsTsgfFYfbt0",
    "outputId": "fbb76e9f-6bb0-468e-a944-66d80d46ffb6"
   },
   "outputs": [
    {
     "data": {
      "text/plain": [
       "7"
      ]
     },
     "execution_count": 37,
     "metadata": {},
     "output_type": "execute_result"
    }
   ],
   "source": [
    "len(m)"
   ]
  },
  {
   "cell_type": "code",
   "execution_count": null,
   "metadata": {
    "colab": {
     "base_uri": "https://localhost:8080/"
    },
    "id": "ac0pt3M7gCTB",
    "outputId": "128d0e3e-4a75-47e8-bf66-822f521fc719"
   },
   "outputs": [
    {
     "data": {
      "text/plain": [
       "[203, 'ml', 45, False, 46, 759, 'hyd']"
      ]
     },
     "execution_count": 38,
     "metadata": {},
     "output_type": "execute_result"
    }
   ],
   "source": [
    "c"
   ]
  },
  {
   "cell_type": "code",
   "execution_count": null,
   "metadata": {
    "colab": {
     "base_uri": "https://localhost:8080/"
    },
    "id": "ac-YdH0egVAT",
    "outputId": "8dc962eb-a873-45ff-b34b-327373d314ec"
   },
   "outputs": [
    {
     "data": {
      "text/plain": [
       "[203, 'ml', 45, False, 46, 759, 'hyd']"
      ]
     },
     "execution_count": 39,
     "metadata": {},
     "output_type": "execute_result"
    }
   ],
   "source": [
    "m"
   ]
  },
  {
   "cell_type": "code",
   "execution_count": null,
   "metadata": {
    "colab": {
     "base_uri": "https://localhost:8080/"
    },
    "id": "0fMxGHz7gXrL",
    "outputId": "f3cfe92b-3eb3-4dbc-9fea-f26291d340c9"
   },
   "outputs": [
    {
     "data": {
      "text/plain": [
       "False"
      ]
     },
     "execution_count": 40,
     "metadata": {},
     "output_type": "execute_result"
    }
   ],
   "source": [
    "c!=m"
   ]
  },
  {
   "cell_type": "code",
   "execution_count": null,
   "metadata": {
    "colab": {
     "base_uri": "https://localhost:8080/"
    },
    "id": "rL5i1QELgZ3-",
    "outputId": "37df3063-23c4-449f-83bd-fca056d399b9"
   },
   "outputs": [
    {
     "data": {
      "text/plain": [
       "True"
      ]
     },
     "execution_count": 41,
     "metadata": {},
     "output_type": "execute_result"
    }
   ],
   "source": [
    "c==m"
   ]
  },
  {
   "cell_type": "code",
   "execution_count": null,
   "metadata": {
    "colab": {
     "base_uri": "https://localhost:8080/"
    },
    "id": "H6WJtT1WgbzL",
    "outputId": "47632d11-5488-461e-c92e-0154ed5d8753"
   },
   "outputs": [
    {
     "data": {
      "text/plain": [
       "True"
      ]
     },
     "execution_count": 42,
     "metadata": {},
     "output_type": "execute_result"
    }
   ],
   "source": [
    "len(c)==len(m)"
   ]
  },
  {
   "cell_type": "code",
   "execution_count": null,
   "metadata": {
    "colab": {
     "base_uri": "https://localhost:8080/"
    },
    "id": "tL7oMU1hgfP7",
    "outputId": "75ad6914-3a89-4fcf-d81c-0680017d569f"
   },
   "outputs": [
    {
     "name": "stdout",
     "output_type": "stream",
     "text": [
      "[203, 'ml', 45, False, 46, 759, 'hyd']\n"
     ]
    }
   ],
   "source": [
    "print(m)"
   ]
  },
  {
   "cell_type": "code",
   "execution_count": null,
   "metadata": {
    "colab": {
     "base_uri": "https://localhost:8080/"
    },
    "id": "BpB74pRMhE5J",
    "outputId": "aea36798-c31d-4f4e-9f6f-9183582e4ce9"
   },
   "outputs": [
    {
     "name": "stdout",
     "output_type": "stream",
     "text": [
      "my list:[203, 'ml', 45, False, 46, 759, 'hyd']\n"
     ]
    }
   ],
   "source": [
    "print(f\"my list:{m}\")"
   ]
  },
  {
   "cell_type": "code",
   "execution_count": null,
   "metadata": {
    "id": "dypFhggMhKY3"
   },
   "outputs": [],
   "source": [
    "m.append(\"mumbai\")"
   ]
  },
  {
   "cell_type": "code",
   "execution_count": null,
   "metadata": {
    "colab": {
     "base_uri": "https://localhost:8080/"
    },
    "id": "ypus_KUlhjpu",
    "outputId": "cd318a97-cecb-414a-ef4b-ca27f2bb85c2"
   },
   "outputs": [
    {
     "data": {
      "text/plain": [
       "[203, 'ml', 45, False, 46, 759, 'hyd', 'mumbai']"
      ]
     },
     "execution_count": 46,
     "metadata": {},
     "output_type": "execute_result"
    }
   ],
   "source": [
    "m"
   ]
  },
  {
   "cell_type": "code",
   "execution_count": null,
   "metadata": {
    "colab": {
     "base_uri": "https://localhost:8080/"
    },
    "id": "HPMMbMivhkZ-",
    "outputId": "39838029-32a8-488d-f633-15e43b9d8407"
   },
   "outputs": [
    {
     "data": {
      "text/plain": [
       "[203, 'ml', 45, False, 46, 759, 'hyd', 'mumbai']"
      ]
     },
     "execution_count": 47,
     "metadata": {},
     "output_type": "execute_result"
    }
   ],
   "source": [
    "c"
   ]
  },
  {
   "cell_type": "code",
   "execution_count": null,
   "metadata": {
    "id": "3Ks3Gzw3hlNf"
   },
   "outputs": [],
   "source": [
    "m.append(\"Delhi\")"
   ]
  },
  {
   "cell_type": "code",
   "execution_count": null,
   "metadata": {
    "id": "G90Ba75zhoce"
   },
   "outputs": [],
   "source": [
    "m.append(\"bangalore\")"
   ]
  },
  {
   "cell_type": "code",
   "execution_count": null,
   "metadata": {
    "id": "o8Xcu8EshsEj"
   },
   "outputs": [],
   "source": [
    "m.append(\"chennai\")"
   ]
  },
  {
   "cell_type": "code",
   "execution_count": null,
   "metadata": {
    "colab": {
     "base_uri": "https://localhost:8080/"
    },
    "id": "uUT26qXhhziB",
    "outputId": "1751f8bc-6bb0-4910-e5e1-213b32b9d827"
   },
   "outputs": [
    {
     "data": {
      "text/plain": [
       "[203,\n",
       " 'ml',\n",
       " 45,\n",
       " False,\n",
       " 46,\n",
       " 759,\n",
       " 'hyd',\n",
       " 'mumbai',\n",
       " 'Delhi',\n",
       " 'bangalore',\n",
       " 'chennai']"
      ]
     },
     "execution_count": 51,
     "metadata": {},
     "output_type": "execute_result"
    }
   ],
   "source": [
    "m"
   ]
  },
  {
   "cell_type": "code",
   "execution_count": null,
   "metadata": {
    "colab": {
     "base_uri": "https://localhost:8080/"
    },
    "id": "ZdiKQjiJh0IQ",
    "outputId": "75eac10e-001c-47a0-8384-8596c471e0c9"
   },
   "outputs": [
    {
     "name": "stdout",
     "output_type": "stream",
     "text": [
      "[203, 'ml', 45, False, 46, 759, 'hyd', 'mumbai', 'Delhi', 'bangalore', 'chennai']\n"
     ]
    }
   ],
   "source": [
    "print(m)"
   ]
  },
  {
   "cell_type": "code",
   "execution_count": null,
   "metadata": {
    "colab": {
     "base_uri": "https://localhost:8080/"
    },
    "id": "3H196CXAh1uq",
    "outputId": "a8c448ca-8892-43f6-82a4-2a505b19f799"
   },
   "outputs": [
    {
     "name": "stdout",
     "output_type": "stream",
     "text": [
      "my list: [203, 'ml', 45, False, 46, 759, 'hyd', 'mumbai', 'Delhi', 'bangalore', 'chennai']\n"
     ]
    }
   ],
   "source": [
    "print(f\"my list: {m}\")"
   ]
  },
  {
   "cell_type": "code",
   "execution_count": null,
   "metadata": {
    "id": "9h-_cB8uh446"
   },
   "outputs": [],
   "source": [
    "m.remove('hyd')"
   ]
  },
  {
   "cell_type": "code",
   "execution_count": null,
   "metadata": {
    "id": "KV4HznZOifKF"
   },
   "outputs": [],
   "source": [
    "m.remove(45)"
   ]
  },
  {
   "cell_type": "code",
   "execution_count": null,
   "metadata": {
    "colab": {
     "base_uri": "https://localhost:8080/"
    },
    "id": "f4Mg_XkiihPQ",
    "outputId": "82b9c81f-3a33-4018-e087-3320cd169944"
   },
   "outputs": [
    {
     "data": {
      "text/plain": [
       "[203, 'ml', False, 46, 759, 'mumbai', 'Delhi', 'bangalore', 'chennai']"
      ]
     },
     "execution_count": 56,
     "metadata": {},
     "output_type": "execute_result"
    }
   ],
   "source": [
    "m"
   ]
  },
  {
   "cell_type": "code",
   "execution_count": null,
   "metadata": {
    "id": "97-l4mBDih9z"
   },
   "outputs": [],
   "source": [
    "m.insert(2,'gujarat')"
   ]
  },
  {
   "cell_type": "code",
   "execution_count": null,
   "metadata": {
    "id": "iDQgAA9nioWQ"
   },
   "outputs": [],
   "source": [
    "m.insert(4,'lucknow')"
   ]
  },
  {
   "cell_type": "code",
   "execution_count": null,
   "metadata": {
    "id": "rulPRh0bi34A"
   },
   "outputs": [],
   "source": [
    "m.insert(0,'punjab')"
   ]
  },
  {
   "cell_type": "code",
   "execution_count": null,
   "metadata": {
    "colab": {
     "base_uri": "https://localhost:8080/"
    },
    "id": "91XNtg4ui69H",
    "outputId": "ffaeb54a-003e-4b35-dddb-76fc119cc7e7"
   },
   "outputs": [
    {
     "name": "stdout",
     "output_type": "stream",
     "text": [
      "my list: ['punjab', 203, 'ml', 'gujarat', False, 'lucknow', 46, 759, 'mumbai', 'Delhi', 'bangalore', 'chennai']\n"
     ]
    }
   ],
   "source": [
    "print(f\"my list: {m}\")"
   ]
  },
  {
   "cell_type": "code",
   "execution_count": null,
   "metadata": {
    "colab": {
     "base_uri": "https://localhost:8080/"
    },
    "id": "2sj9x-h4i_IK",
    "outputId": "21de9f19-38e0-4ba2-bbcf-2628f59aa05a"
   },
   "outputs": [
    {
     "name": "stdout",
     "output_type": "stream",
     "text": [
      "['punjab', 203, 'ml', 'gujarat', False, 'lucknow', 46, 759, 'mumbai', 'Delhi', 'bangalore', 'chennai']\n"
     ]
    }
   ],
   "source": [
    "print(c)"
   ]
  },
  {
   "cell_type": "code",
   "execution_count": null,
   "metadata": {
    "colab": {
     "base_uri": "https://localhost:8080/"
    },
    "id": "0H9nhpvTjAd5",
    "outputId": "92dd95c4-e87d-437e-91df-605424e3e2de"
   },
   "outputs": [
    {
     "name": "stdout",
     "output_type": "stream",
     "text": [
      "['punjab', 203, 'ml', 'gujarat', False, 'lucknow', 46, 759, 'mumbai', 'Delhi', 'bangalore', 'chennai']\n"
     ]
    }
   ],
   "source": [
    "print(m)"
   ]
  },
  {
   "cell_type": "code",
   "execution_count": null,
   "metadata": {
    "id": "j126RZIijQD3"
   },
   "outputs": [],
   "source": [
    "m.extend([80,70])"
   ]
  },
  {
   "cell_type": "code",
   "execution_count": null,
   "metadata": {
    "colab": {
     "base_uri": "https://localhost:8080/"
    },
    "id": "Vu732erWjZRr",
    "outputId": "409b96e3-39ed-4d6e-ed48-bf8033364437"
   },
   "outputs": [
    {
     "data": {
      "text/plain": [
       "['punjab',\n",
       " 203,\n",
       " 'ml',\n",
       " 'gujarat',\n",
       " False,\n",
       " 'lucknow',\n",
       " 46,\n",
       " 759,\n",
       " 'mumbai',\n",
       " 'Delhi',\n",
       " 'bangalore',\n",
       " 'chennai',\n",
       " 80,\n",
       " 70]"
      ]
     },
     "execution_count": 70,
     "metadata": {},
     "output_type": "execute_result"
    }
   ],
   "source": [
    "m"
   ]
  },
  {
   "cell_type": "code",
   "execution_count": null,
   "metadata": {
    "colab": {
     "base_uri": "https://localhost:8080/"
    },
    "id": "zWVIWSEGjoWd",
    "outputId": "aee3d680-81aa-4a54-887d-ed2eb30f5f98"
   },
   "outputs": [
    {
     "name": "stdout",
     "output_type": "stream",
     "text": [
      "['punjab', 203, 'ml', 'gujarat', False, 'lucknow', 46, 759, 'mumbai', 'Delhi', 'bangalore', 'chennai', 80, 70]\n"
     ]
    }
   ],
   "source": [
    "print(m)"
   ]
  },
  {
   "cell_type": "code",
   "execution_count": null,
   "metadata": {
    "colab": {
     "base_uri": "https://localhost:8080/"
    },
    "id": "A62Si7HBjpml",
    "outputId": "e67dee11-a413-400c-9230-8e6fe5e47d9b"
   },
   "outputs": [
    {
     "data": {
      "text/plain": [
       "False"
      ]
     },
     "execution_count": 72,
     "metadata": {},
     "output_type": "execute_result"
    }
   ],
   "source": [
    "m.pop(4)"
   ]
  },
  {
   "cell_type": "code",
   "execution_count": null,
   "metadata": {
    "colab": {
     "base_uri": "https://localhost:8080/"
    },
    "id": "V50aJBr5jzfQ",
    "outputId": "20367b17-b6f9-45de-f8b3-6d1c40fb6cfd"
   },
   "outputs": [
    {
     "data": {
      "text/plain": [
       "46"
      ]
     },
     "execution_count": 73,
     "metadata": {},
     "output_type": "execute_result"
    }
   ],
   "source": [
    "m.pop(5)"
   ]
  },
  {
   "cell_type": "code",
   "execution_count": null,
   "metadata": {
    "colab": {
     "base_uri": "https://localhost:8080/"
    },
    "id": "CQ8Ofs2lj3Oa",
    "outputId": "7859e649-cb98-4920-af9b-26097845c631"
   },
   "outputs": [
    {
     "data": {
      "text/plain": [
       "759"
      ]
     },
     "execution_count": 74,
     "metadata": {},
     "output_type": "execute_result"
    }
   ],
   "source": [
    "m.pop(5)"
   ]
  },
  {
   "cell_type": "code",
   "execution_count": null,
   "metadata": {
    "colab": {
     "base_uri": "https://localhost:8080/"
    },
    "id": "TIIg3Lvjj4uh",
    "outputId": "27bbe36d-2865-4afb-c43e-01370fb2374d"
   },
   "outputs": [
    {
     "name": "stdout",
     "output_type": "stream",
     "text": [
      "my list: ['punjab', 203, 'ml', 'gujarat', 'lucknow', 'mumbai', 'Delhi', 'bangalore', 'chennai', 80, 70]\n"
     ]
    }
   ],
   "source": [
    "print(f\"my list: {m}\")"
   ]
  },
  {
   "cell_type": "code",
   "execution_count": null,
   "metadata": {
    "id": "Ru_5Fuo_j-D7"
   },
   "outputs": [],
   "source": [
    "a=[1,2,7,44]"
   ]
  },
  {
   "cell_type": "code",
   "execution_count": null,
   "metadata": {
    "id": "IoMheiuKkEp7"
   },
   "outputs": [],
   "source": [
    "b=[76,36,0,7,3]"
   ]
  },
  {
   "cell_type": "code",
   "execution_count": null,
   "metadata": {
    "colab": {
     "base_uri": "https://localhost:8080/"
    },
    "id": "a6ALRhMukHoU",
    "outputId": "85c32bd3-8747-47a2-8e7b-f1b651cea8a3"
   },
   "outputs": [
    {
     "data": {
      "text/plain": [
       "[1, 2, 7, 44, 76, 36, 0, 7, 3]"
      ]
     },
     "execution_count": 78,
     "metadata": {},
     "output_type": "execute_result"
    }
   ],
   "source": [
    "a+b"
   ]
  },
  {
   "cell_type": "code",
   "execution_count": null,
   "metadata": {
    "colab": {
     "base_uri": "https://localhost:8080/"
    },
    "id": "I1euA-A5kUpJ",
    "outputId": "03c5dd82-3631-4406-d644-daf2c3f115f4"
   },
   "outputs": [
    {
     "data": {
      "text/plain": [
       "[1, 2, 7, 44, 76, 36, 0, 7, 3, 1, 2, 7, 44]"
      ]
     },
     "execution_count": 80,
     "metadata": {},
     "output_type": "execute_result"
    }
   ],
   "source": [
    "a+b"
   ]
  },
  {
   "cell_type": "code",
   "execution_count": null,
   "metadata": {
    "id": "Dw2c9-3SkXQz"
   },
   "outputs": [],
   "source": [
    "c=a+b"
   ]
  },
  {
   "cell_type": "code",
   "execution_count": null,
   "metadata": {
    "id": "TwS6merjkIj6"
   },
   "outputs": [],
   "source": [
    "b.extend(a)"
   ]
  },
  {
   "cell_type": "code",
   "execution_count": null,
   "metadata": {
    "colab": {
     "base_uri": "https://localhost:8080/"
    },
    "id": "iH74X-dckwkl",
    "outputId": "59535eec-a037-4b44-9c6d-2428ef379b9b"
   },
   "outputs": [
    {
     "data": {
      "text/plain": [
       "[1, 2, 7, 44]"
      ]
     },
     "execution_count": 83,
     "metadata": {},
     "output_type": "execute_result"
    }
   ],
   "source": [
    "a"
   ]
  },
  {
   "cell_type": "code",
   "execution_count": null,
   "metadata": {
    "colab": {
     "base_uri": "https://localhost:8080/"
    },
    "id": "KRvJxk80k2lt",
    "outputId": "061e0014-0069-46f2-a197-e57342557f06"
   },
   "outputs": [
    {
     "data": {
      "text/plain": [
       "[76, 36, 0, 7, 3, 1, 2, 7, 44]"
      ]
     },
     "execution_count": 84,
     "metadata": {},
     "output_type": "execute_result"
    }
   ],
   "source": [
    "b"
   ]
  },
  {
   "cell_type": "code",
   "execution_count": null,
   "metadata": {
    "colab": {
     "base_uri": "https://localhost:8080/"
    },
    "id": "bgHEFXJkkcYf",
    "outputId": "1becb1d8-5324-4b77-b744-deceed4fd0f0"
   },
   "outputs": [
    {
     "data": {
      "text/plain": [
       "[1, 2, 7, 44, 76, 36, 0, 7, 3, 1, 2, 7, 44]"
      ]
     },
     "execution_count": 82,
     "metadata": {},
     "output_type": "execute_result"
    }
   ],
   "source": [
    "c"
   ]
  },
  {
   "cell_type": "code",
   "execution_count": null,
   "metadata": {
    "id": "fmH77YpMkeGh"
   },
   "outputs": [],
   "source": []
  }
 ],
 "metadata": {
  "colab": {
   "provenance": []
  },
  "kernelspec": {
   "display_name": "Python [conda env:base] *",
   "language": "python",
   "name": "conda-base-py"
  },
  "language_info": {
   "codemirror_mode": {
    "name": "ipython",
    "version": 3
   },
   "file_extension": ".py",
   "mimetype": "text/x-python",
   "name": "python",
   "nbconvert_exporter": "python",
   "pygments_lexer": "ipython3",
   "version": "3.12.7"
  }
 },
 "nbformat": 4,
 "nbformat_minor": 4
}
